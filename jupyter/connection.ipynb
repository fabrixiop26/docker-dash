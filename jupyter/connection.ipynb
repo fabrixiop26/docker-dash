{
 "cells": [
  {
   "cell_type": "code",
   "execution_count": 1,
   "id": "ac7eed70",
   "metadata": {
    "scrolled": false
   },
   "outputs": [
    {
     "data": {
      "text/html": [
       "<div>\n",
       "<style scoped>\n",
       "    .dataframe tbody tr th:only-of-type {\n",
       "        vertical-align: middle;\n",
       "    }\n",
       "\n",
       "    .dataframe tbody tr th {\n",
       "        vertical-align: top;\n",
       "    }\n",
       "\n",
       "    .dataframe thead th {\n",
       "        text-align: right;\n",
       "    }\n",
       "</style>\n",
       "<table border=\"1\" class=\"dataframe\">\n",
       "  <thead>\n",
       "    <tr style=\"text-align: right;\">\n",
       "      <th></th>\n",
       "      <th>program</th>\n",
       "      <th>year</th>\n",
       "      <th>period</th>\n",
       "      <th>state</th>\n",
       "      <th>ansi</th>\n",
       "      <th>affected_by</th>\n",
       "      <th>pct_of_colonies_impacted</th>\n",
       "      <th>state_code</th>\n",
       "    </tr>\n",
       "  </thead>\n",
       "  <tbody>\n",
       "    <tr>\n",
       "      <th>0</th>\n",
       "      <td>SURVEY</td>\n",
       "      <td>2019</td>\n",
       "      <td>JAN THRU MAR</td>\n",
       "      <td>Alabama</td>\n",
       "      <td>1</td>\n",
       "      <td>Disease</td>\n",
       "      <td>1.8</td>\n",
       "      <td>AL</td>\n",
       "    </tr>\n",
       "    <tr>\n",
       "      <th>1</th>\n",
       "      <td>SURVEY</td>\n",
       "      <td>2019</td>\n",
       "      <td>JAN THRU MAR</td>\n",
       "      <td>Alabama</td>\n",
       "      <td>1</td>\n",
       "      <td>Other</td>\n",
       "      <td>3.1</td>\n",
       "      <td>AL</td>\n",
       "    </tr>\n",
       "    <tr>\n",
       "      <th>2</th>\n",
       "      <td>SURVEY</td>\n",
       "      <td>2019</td>\n",
       "      <td>JAN THRU MAR</td>\n",
       "      <td>Alabama</td>\n",
       "      <td>1</td>\n",
       "      <td>Pesticides</td>\n",
       "      <td>0.3</td>\n",
       "      <td>AL</td>\n",
       "    </tr>\n",
       "    <tr>\n",
       "      <th>3</th>\n",
       "      <td>SURVEY</td>\n",
       "      <td>2019</td>\n",
       "      <td>JAN THRU MAR</td>\n",
       "      <td>Alabama</td>\n",
       "      <td>1</td>\n",
       "      <td>Pests_excl_Varroa</td>\n",
       "      <td>22.7</td>\n",
       "      <td>AL</td>\n",
       "    </tr>\n",
       "    <tr>\n",
       "      <th>4</th>\n",
       "      <td>SURVEY</td>\n",
       "      <td>2019</td>\n",
       "      <td>JAN THRU MAR</td>\n",
       "      <td>Alabama</td>\n",
       "      <td>1</td>\n",
       "      <td>Unknown</td>\n",
       "      <td>9.0</td>\n",
       "      <td>AL</td>\n",
       "    </tr>\n",
       "    <tr>\n",
       "      <th>...</th>\n",
       "      <td>...</td>\n",
       "      <td>...</td>\n",
       "      <td>...</td>\n",
       "      <td>...</td>\n",
       "      <td>...</td>\n",
       "      <td>...</td>\n",
       "      <td>...</td>\n",
       "      <td>...</td>\n",
       "    </tr>\n",
       "    <tr>\n",
       "      <th>95</th>\n",
       "      <td>SURVEY</td>\n",
       "      <td>2015</td>\n",
       "      <td>JUL THRU SEP</td>\n",
       "      <td>Alabama</td>\n",
       "      <td>1</td>\n",
       "      <td>Varroa_mites</td>\n",
       "      <td>63.1</td>\n",
       "      <td>AL</td>\n",
       "    </tr>\n",
       "    <tr>\n",
       "      <th>96</th>\n",
       "      <td>SURVEY</td>\n",
       "      <td>2015</td>\n",
       "      <td>OCT THRU DEC</td>\n",
       "      <td>Alabama</td>\n",
       "      <td>1</td>\n",
       "      <td>Disease</td>\n",
       "      <td>0.2</td>\n",
       "      <td>AL</td>\n",
       "    </tr>\n",
       "    <tr>\n",
       "      <th>97</th>\n",
       "      <td>SURVEY</td>\n",
       "      <td>2015</td>\n",
       "      <td>OCT THRU DEC</td>\n",
       "      <td>Alabama</td>\n",
       "      <td>1</td>\n",
       "      <td>Other</td>\n",
       "      <td>2.8</td>\n",
       "      <td>AL</td>\n",
       "    </tr>\n",
       "    <tr>\n",
       "      <th>98</th>\n",
       "      <td>SURVEY</td>\n",
       "      <td>2015</td>\n",
       "      <td>OCT THRU DEC</td>\n",
       "      <td>Alabama</td>\n",
       "      <td>1</td>\n",
       "      <td>Pesticides</td>\n",
       "      <td>0.2</td>\n",
       "      <td>AL</td>\n",
       "    </tr>\n",
       "    <tr>\n",
       "      <th>99</th>\n",
       "      <td>SURVEY</td>\n",
       "      <td>2015</td>\n",
       "      <td>OCT THRU DEC</td>\n",
       "      <td>Alabama</td>\n",
       "      <td>1</td>\n",
       "      <td>Pests_excl_Varroa</td>\n",
       "      <td>6.4</td>\n",
       "      <td>AL</td>\n",
       "    </tr>\n",
       "  </tbody>\n",
       "</table>\n",
       "<p>100 rows × 8 columns</p>\n",
       "</div>"
      ],
      "text/plain": [
       "   program  year        period    state  ansi        affected_by  \\\n",
       "0   SURVEY  2019  JAN THRU MAR  Alabama     1            Disease   \n",
       "1   SURVEY  2019  JAN THRU MAR  Alabama     1              Other   \n",
       "2   SURVEY  2019  JAN THRU MAR  Alabama     1         Pesticides   \n",
       "3   SURVEY  2019  JAN THRU MAR  Alabama     1  Pests_excl_Varroa   \n",
       "4   SURVEY  2019  JAN THRU MAR  Alabama     1            Unknown   \n",
       "..     ...   ...           ...      ...   ...                ...   \n",
       "95  SURVEY  2015  JUL THRU SEP  Alabama     1       Varroa_mites   \n",
       "96  SURVEY  2015  OCT THRU DEC  Alabama     1            Disease   \n",
       "97  SURVEY  2015  OCT THRU DEC  Alabama     1              Other   \n",
       "98  SURVEY  2015  OCT THRU DEC  Alabama     1         Pesticides   \n",
       "99  SURVEY  2015  OCT THRU DEC  Alabama     1  Pests_excl_Varroa   \n",
       "\n",
       "    pct_of_colonies_impacted state_code  \n",
       "0                        1.8         AL  \n",
       "1                        3.1         AL  \n",
       "2                        0.3         AL  \n",
       "3                       22.7         AL  \n",
       "4                        9.0         AL  \n",
       "..                       ...        ...  \n",
       "95                      63.1         AL  \n",
       "96                       0.2         AL  \n",
       "97                       2.8         AL  \n",
       "98                       0.2         AL  \n",
       "99                       6.4         AL  \n",
       "\n",
       "[100 rows x 8 columns]"
      ]
     },
     "execution_count": 1,
     "metadata": {},
     "output_type": "execute_result"
    }
   ],
   "source": [
    "from sqlalchemy import create_engine\n",
    "import pandas as pd\n",
    "# Postgres username, password, and database name\n",
    "POSTGRES_ADDRESS = 'postgresdb' # Nombre del nombre del contenedor donde esta la base de datos\n",
    "POSTGRES_PORT = '5432'\n",
    "POSTGRES_USERNAME = 'postgres' # Nombre de usuario pasado como enviroment\n",
    "POSTGRES_PASSWORD = '12345' #Contraseña\n",
    "POSTGRES_DBNAME= \"postgres\" #Nombre de la base de datos (select current_database(); en psql)\n",
    "\n",
    "connection_format = \"postgresql://{username}:{password}@{ipaddress}:{port}/{dbname}\"\n",
    "\n",
    "postgres_str = connection_format.format(username=POSTGRES_USERNAME,password=POSTGRES_PASSWORD,ipaddress=POSTGRES_ADDRESS,port=POSTGRES_PORT,dbname=POSTGRES_DBNAME)\n",
    "# Create the connection\n",
    "cnn = create_engine(postgres_str)\n",
    "#conn=p.connect(dbname='test', user='postgres', host='postgresdb', password='12345', port=5432)\n",
    "\n",
    "pd.read_sql_query('select * from bees limit 10;', cnn)"
   ]
  },
  {
   "cell_type": "code",
   "execution_count": 9,
   "id": "d684e966",
   "metadata": {
    "scrolled": true
   },
   "outputs": [
    {
     "data": {
      "text/plain": [
       "<AxesSubplot:title={'center':'Florida 2019'}, xlabel='affected_by'>"
      ]
     },
     "execution_count": 9,
     "metadata": {},
     "output_type": "execute_result"
    },
    {
     "data": {
      "image/png": "[encoded data removed]",
      "text/plain": [
       "<Figure size 432x288 with 1 Axes>"
      ]
     },
     "metadata": {
      "needs_background": "light"
     },
     "output_type": "display_data"
    },
    {
     "data": {
      "image/png": "[encoded data removed]",
      "text/plain": [
       "<Figure size 432x288 with 1 Axes>"
      ]
     },
     "metadata": {
      "needs_background": "light"
     },
     "output_type": "display_data"
    },
    {
     "data": {
      "image/png": "[encoded data removed]",
      "text/plain": [
       "<Figure size 432x288 with 1 Axes>"
      ]
     },
     "metadata": {
      "needs_background": "light"
     },
     "output_type": "display_data"
    }
   ],
   "source": [
    "import matplotlib.pyplot as plt\n",
    "import pandas as pd\n",
    "df = pd.read_sql_query('select * from bees;', cnn)\n",
    "alabama = df[(df[\"state\"] == \"Alabama\") & (df[\"year\"]==2019)]\n",
    "florida = df[(df[\"state\"] == \"Florida\") & (df[\"year\"]==2019)]\n",
    "california= df[(df[\"state\"] == \"California\") & (df[\"year\"]==2019)]\n",
    "\n",
    "alabama.plot.bar(x=\"affected_by\", y=[\"pct_of_colonies_impacted\"],title=\"Alabama 2019\")\n",
    "california.plot.bar(x=\"affected_by\", y=[\"pct_of_colonies_impacted\"],title=\"California 2019\", color=\"red\")\n",
    "florida.plot.bar(x=\"affected_by\", y=[\"pct_of_colonies_impacted\"],title=\"Florida 2019\", color=\"green\")"
   ]
  },
  {
   "cell_type": "code",
   "execution_count": null,
   "id": "53a38234",
   "metadata": {},
   "outputs": [],
   "source": []
  }
 ],
 "metadata": {
  "kernelspec": {
   "display_name": "Python 3",
   "language": "python",
   "name": "python3"
  },
  "language_info": {
   "codemirror_mode": {
    "name": "ipython",
    "version": 3
   },
   "file_extension": ".py",
   "mimetype": "text/x-python",
   "name": "python",
   "nbconvert_exporter": "python",
   "pygments_lexer": "ipython3",
   "version": "3.9.2"
  }
 },
 "nbformat": 4,
 "nbformat_minor": 5
}
